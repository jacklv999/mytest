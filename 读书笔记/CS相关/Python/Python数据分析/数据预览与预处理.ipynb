{
 "cells": [
  {
   "cell_type": "markdown",
   "metadata": {},
   "source": [
    "# 3 - 数据预览与预处理\n",
    "<br>\n",
    "\n",
    "在拿到数据第一步当然是对数据做一个大概的浏览，以及对缺失值重复值进行相关处理。\n",
    "\n",
    "本小节就将练习这部分的基本操作。\n",
    "\n",
    "注意1：为了尽可能多的介绍不同方法，因此本节部分操作不是必须的。\n",
    "\n",
    "注意2:当进入到 pandas 操作数据时，很多答案并非唯一也并非最优。\n",
    " "
   ]
  },
  {
   "cell_type": "markdown",
   "metadata": {},
   "source": [
    "## 加载数据"
   ]
  },
  {
   "cell_type": "code",
   "execution_count": 1,
   "metadata": {},
   "outputs": [],
   "source": [
    "import pandas as pd\n",
    "df = pd.read_excel(\"TOP250.xlsx\")"
   ]
  },
  {
   "cell_type": "markdown",
   "metadata": {},
   "source": [
    "## 数据查看"
   ]
  },
  {
   "cell_type": "markdown",
   "metadata": {},
   "source": [
    "### 1 - 查看数据维度\n",
    "\n",
    "先看看数据多少行，多少列，对接下来的处理量心里有个数"
   ]
  },
  {
   "cell_type": "code",
   "execution_count": 3,
   "metadata": {},
   "outputs": [
    {
     "data": {
      "text/plain": [
       "(262, 11)"
      ]
     },
     "execution_count": 3,
     "metadata": {},
     "output_type": "execute_result"
    }
   ],
   "source": [
    "df.shape"
   ]
  },
  {
   "cell_type": "markdown",
   "metadata": {},
   "source": [
    "### 2 - 随机查看5条数据"
   ]
  },
  {
   "cell_type": "code",
   "execution_count": 2,
   "metadata": {},
   "outputs": [
    {
     "data": {
      "text/html": [
       "<div>\n",
       "<style scoped>\n",
       "    .dataframe tbody tr th:only-of-type {\n",
       "        vertical-align: middle;\n",
       "    }\n",
       "\n",
       "    .dataframe tbody tr th {\n",
       "        vertical-align: top;\n",
       "    }\n",
       "\n",
       "    .dataframe thead th {\n",
       "        text-align: right;\n",
       "    }\n",
       "</style>\n",
       "<table border=\"1\" class=\"dataframe\">\n",
       "  <thead>\n",
       "    <tr style=\"text-align: right;\">\n",
       "      <th></th>\n",
       "      <th>片名</th>\n",
       "      <th>上映年份</th>\n",
       "      <th>评分</th>\n",
       "      <th>评价人数</th>\n",
       "      <th>导演</th>\n",
       "      <th>编剧</th>\n",
       "      <th>主演</th>\n",
       "      <th>类型</th>\n",
       "      <th>国家/地区</th>\n",
       "      <th>语言</th>\n",
       "      <th>时长(分钟)</th>\n",
       "    </tr>\n",
       "  </thead>\n",
       "  <tbody>\n",
       "    <tr>\n",
       "      <th>207</th>\n",
       "      <td>奇迹男孩</td>\n",
       "      <td>2017</td>\n",
       "      <td>8.6</td>\n",
       "      <td>465218.0</td>\n",
       "      <td>斯蒂芬·卓博斯基</td>\n",
       "      <td>斯蒂芬·卓博斯基 / 斯蒂夫·康拉德 / 杰克·索恩 / R·J·帕拉西奥</td>\n",
       "      <td>雅各布·特伦布莱 / 朱莉娅·罗伯茨 / 伊扎贝拉·维多维奇 / 欧文·威尔逊 / 诺亚·尤...</td>\n",
       "      <td>剧情 / 家庭 / 儿童</td>\n",
       "      <td>美国</td>\n",
       "      <td>英语</td>\n",
       "      <td>113.0</td>\n",
       "    </tr>\n",
       "  </tbody>\n",
       "</table>\n",
       "</div>"
      ],
      "text/plain": [
       "       片名  上映年份   评分      评价人数        导演  \\\n",
       "207  奇迹男孩  2017  8.6  465218.0  斯蒂芬·卓博斯基   \n",
       "\n",
       "                                        编剧  \\\n",
       "207  斯蒂芬·卓博斯基 / 斯蒂夫·康拉德 / 杰克·索恩 / R·J·帕拉西奥   \n",
       "\n",
       "                                                    主演            类型 国家/地区  \\\n",
       "207  雅各布·特伦布莱 / 朱莉娅·罗伯茨 / 伊扎贝拉·维多维奇 / 欧文·威尔逊 / 诺亚·尤...  剧情 / 家庭 / 儿童    美国   \n",
       "\n",
       "     语言  时长(分钟)  \n",
       "207  英语   113.0  "
      ]
     },
     "execution_count": 2,
     "metadata": {},
     "output_type": "execute_result"
    }
   ],
   "source": [
    "df.sample(1)"
   ]
  },
  {
   "cell_type": "markdown",
   "metadata": {},
   "source": [
    "### 3 - 查看数据前后5行"
   ]
  },
  {
   "cell_type": "code",
   "execution_count": 5,
   "metadata": {},
   "outputs": [
    {
     "data": {
      "text/html": [
       "<div>\n",
       "<style scoped>\n",
       "    .dataframe tbody tr th:only-of-type {\n",
       "        vertical-align: middle;\n",
       "    }\n",
       "\n",
       "    .dataframe tbody tr th {\n",
       "        vertical-align: top;\n",
       "    }\n",
       "\n",
       "    .dataframe thead th {\n",
       "        text-align: right;\n",
       "    }\n",
       "</style>\n",
       "<table border=\"1\" class=\"dataframe\">\n",
       "  <thead>\n",
       "    <tr style=\"text-align: right;\">\n",
       "      <th></th>\n",
       "      <th>片名</th>\n",
       "      <th>上映年份</th>\n",
       "      <th>评分</th>\n",
       "      <th>评价人数</th>\n",
       "      <th>导演</th>\n",
       "      <th>编剧</th>\n",
       "      <th>主演</th>\n",
       "      <th>类型</th>\n",
       "      <th>国家/地区</th>\n",
       "      <th>语言</th>\n",
       "      <th>时长(分钟)</th>\n",
       "    </tr>\n",
       "  </thead>\n",
       "  <tbody>\n",
       "    <tr>\n",
       "      <th>0</th>\n",
       "      <td>肖申克的救赎</td>\n",
       "      <td>1994</td>\n",
       "      <td>9.7</td>\n",
       "      <td>2317937.0</td>\n",
       "      <td>弗兰克·德拉邦特</td>\n",
       "      <td>弗兰克·德拉邦特 / 斯蒂芬·金</td>\n",
       "      <td>蒂姆·罗宾斯 / 摩根·弗里曼 / 鲍勃·冈顿 / 威廉姆·赛德勒 / 克兰西·布朗 / 吉...</td>\n",
       "      <td>剧情 / 犯罪</td>\n",
       "      <td>美国</td>\n",
       "      <td>英语</td>\n",
       "      <td>142.0</td>\n",
       "    </tr>\n",
       "  </tbody>\n",
       "</table>\n",
       "</div>"
      ],
      "text/plain": [
       "       片名  上映年份   评分       评价人数        导演                编剧  \\\n",
       "0  肖申克的救赎  1994  9.7  2317937.0  弗兰克·德拉邦特  弗兰克·德拉邦特 / 斯蒂芬·金   \n",
       "\n",
       "                                                  主演       类型 国家/地区  语言  \\\n",
       "0  蒂姆·罗宾斯 / 摩根·弗里曼 / 鲍勃·冈顿 / 威廉姆·赛德勒 / 克兰西·布朗 / 吉...  剧情 / 犯罪    美国  英语   \n",
       "\n",
       "   时长(分钟)  \n",
       "0   142.0  "
      ]
     },
     "execution_count": 5,
     "metadata": {},
     "output_type": "execute_result"
    }
   ],
   "source": [
    "df.head(1)"
   ]
  },
  {
   "cell_type": "code",
   "execution_count": 6,
   "metadata": {},
   "outputs": [
    {
     "data": {
      "text/html": [
       "<div>\n",
       "<style scoped>\n",
       "    .dataframe tbody tr th:only-of-type {\n",
       "        vertical-align: middle;\n",
       "    }\n",
       "\n",
       "    .dataframe tbody tr th {\n",
       "        vertical-align: top;\n",
       "    }\n",
       "\n",
       "    .dataframe thead th {\n",
       "        text-align: right;\n",
       "    }\n",
       "</style>\n",
       "<table border=\"1\" class=\"dataframe\">\n",
       "  <thead>\n",
       "    <tr style=\"text-align: right;\">\n",
       "      <th></th>\n",
       "      <th>片名</th>\n",
       "      <th>上映年份</th>\n",
       "      <th>评分</th>\n",
       "      <th>评价人数</th>\n",
       "      <th>导演</th>\n",
       "      <th>编剧</th>\n",
       "      <th>主演</th>\n",
       "      <th>类型</th>\n",
       "      <th>国家/地区</th>\n",
       "      <th>语言</th>\n",
       "      <th>时长(分钟)</th>\n",
       "    </tr>\n",
       "  </thead>\n",
       "  <tbody>\n",
       "    <tr>\n",
       "      <th>261</th>\n",
       "      <td>黑鹰坠落</td>\n",
       "      <td>2001</td>\n",
       "      <td>8.7</td>\n",
       "      <td>239402.0</td>\n",
       "      <td>雷德利·斯科特</td>\n",
       "      <td>肯·诺兰 / 马克·鲍登</td>\n",
       "      <td>乔什·哈奈特 / 伊万·麦克格雷格 / 汤姆·塞兹摩尔 / 金·寇兹 / 艾文·布莱纳 / ...</td>\n",
       "      <td>动作 / 历史 / 战争</td>\n",
       "      <td>美国</td>\n",
       "      <td>英语</td>\n",
       "      <td>144.0</td>\n",
       "    </tr>\n",
       "  </tbody>\n",
       "</table>\n",
       "</div>"
      ],
      "text/plain": [
       "       片名  上映年份   评分      评价人数       导演            编剧  \\\n",
       "261  黑鹰坠落  2001  8.7  239402.0  雷德利·斯科特  肯·诺兰 / 马克·鲍登   \n",
       "\n",
       "                                                    主演            类型 国家/地区  \\\n",
       "261  乔什·哈奈特 / 伊万·麦克格雷格 / 汤姆·塞兹摩尔 / 金·寇兹 / 艾文·布莱纳 / ...  动作 / 历史 / 战争    美国   \n",
       "\n",
       "      语言  时长(分钟)  \n",
       "261  英语    144.0  "
      ]
     },
     "execution_count": 6,
     "metadata": {},
     "output_type": "execute_result"
    }
   ],
   "source": [
    "df.tail(1)"
   ]
  },
  {
   "cell_type": "markdown",
   "metadata": {},
   "source": [
    "### 4 - 查看数据基本信息\n",
    "\n",
    "看看数据类型，有无缺失值什么的"
   ]
  },
  {
   "cell_type": "code",
   "execution_count": 7,
   "metadata": {},
   "outputs": [
    {
     "data": {
      "text/plain": [
       "片名         object\n",
       "上映年份        int64\n",
       "评分        float64\n",
       "评价人数      float64\n",
       "导演         object\n",
       "编剧         object\n",
       "主演         object\n",
       "类型         object\n",
       "国家/地区      object\n",
       "语言         object\n",
       "时长(分钟)    float64\n",
       "dtype: object"
      ]
     },
     "execution_count": 7,
     "metadata": {},
     "output_type": "execute_result"
    }
   ],
   "source": [
    "df.dtypes"
   ]
  },
  {
   "cell_type": "code",
   "execution_count": 8,
   "metadata": {},
   "outputs": [
    {
     "name": "stdout",
     "output_type": "stream",
     "text": [
      "<class 'pandas.core.frame.DataFrame'>\n",
      "RangeIndex: 262 entries, 0 to 261\n",
      "Data columns (total 11 columns):\n",
      " #   Column  Non-Null Count  Dtype  \n",
      "---  ------  --------------  -----  \n",
      " 0   片名      262 non-null    object \n",
      " 1   上映年份    262 non-null    int64  \n",
      " 2   评分      257 non-null    float64\n",
      " 3   评价人数    259 non-null    float64\n",
      " 4   导演      262 non-null    object \n",
      " 5   编剧      262 non-null    object \n",
      " 6   主演      262 non-null    object \n",
      " 7   类型      262 non-null    object \n",
      " 8   国家/地区   256 non-null    object \n",
      " 9   语言      256 non-null    object \n",
      " 10  时长(分钟)  256 non-null    float64\n",
      "dtypes: float64(3), int64(1), object(7)\n",
      "memory usage: 22.6+ KB\n"
     ]
    }
   ],
   "source": [
    "df.info()"
   ]
  },
  {
   "cell_type": "markdown",
   "metadata": {},
   "source": [
    "### 5 - 查看数据统计信息｜数值\n",
    "\n",
    "查看 **数值型** 列的统计信息，计数、均值什么的"
   ]
  },
  {
   "cell_type": "code",
   "execution_count": 14,
   "metadata": {},
   "outputs": [
    {
     "data": {
      "text/html": [
       "<div>\n",
       "<style scoped>\n",
       "    .dataframe tbody tr th:only-of-type {\n",
       "        vertical-align: middle;\n",
       "    }\n",
       "\n",
       "    .dataframe tbody tr th {\n",
       "        vertical-align: top;\n",
       "    }\n",
       "\n",
       "    .dataframe thead th {\n",
       "        text-align: right;\n",
       "    }\n",
       "</style>\n",
       "<table border=\"1\" class=\"dataframe\">\n",
       "  <thead>\n",
       "    <tr style=\"text-align: right;\">\n",
       "      <th></th>\n",
       "      <th>count</th>\n",
       "      <th>mean</th>\n",
       "      <th>std</th>\n",
       "      <th>min</th>\n",
       "      <th>25%</th>\n",
       "      <th>50%</th>\n",
       "      <th>75%</th>\n",
       "      <th>max</th>\n",
       "    </tr>\n",
       "  </thead>\n",
       "  <tbody>\n",
       "    <tr>\n",
       "      <th>上映年份</th>\n",
       "      <td>262.0</td>\n",
       "      <td>2000.60</td>\n",
       "      <td>15.57</td>\n",
       "      <td>1931.0</td>\n",
       "      <td>1995.00</td>\n",
       "      <td>2004.0</td>\n",
       "      <td>2011.0</td>\n",
       "      <td>2019.0</td>\n",
       "    </tr>\n",
       "    <tr>\n",
       "      <th>评分</th>\n",
       "      <td>257.0</td>\n",
       "      <td>8.91</td>\n",
       "      <td>0.26</td>\n",
       "      <td>8.4</td>\n",
       "      <td>8.70</td>\n",
       "      <td>8.9</td>\n",
       "      <td>9.1</td>\n",
       "      <td>9.7</td>\n",
       "    </tr>\n",
       "    <tr>\n",
       "      <th>评价人数</th>\n",
       "      <td>259.0</td>\n",
       "      <td>577631.72</td>\n",
       "      <td>367670.85</td>\n",
       "      <td>106462.0</td>\n",
       "      <td>335307.50</td>\n",
       "      <td>479949.0</td>\n",
       "      <td>693230.5</td>\n",
       "      <td>2317937.0</td>\n",
       "    </tr>\n",
       "    <tr>\n",
       "      <th>时长(分钟)</th>\n",
       "      <td>256.0</td>\n",
       "      <td>121.83</td>\n",
       "      <td>28.08</td>\n",
       "      <td>45.0</td>\n",
       "      <td>101.75</td>\n",
       "      <td>118.0</td>\n",
       "      <td>136.0</td>\n",
       "      <td>237.0</td>\n",
       "    </tr>\n",
       "  </tbody>\n",
       "</table>\n",
       "</div>"
      ],
      "text/plain": [
       "        count       mean        std       min        25%       50%       75%  \\\n",
       "上映年份    262.0    2000.60      15.57    1931.0    1995.00    2004.0    2011.0   \n",
       "评分      257.0       8.91       0.26       8.4       8.70       8.9       9.1   \n",
       "评价人数    259.0  577631.72  367670.85  106462.0  335307.50  479949.0  693230.5   \n",
       "时长(分钟)  256.0     121.83      28.08      45.0     101.75     118.0     136.0   \n",
       "\n",
       "              max  \n",
       "上映年份       2019.0  \n",
       "评分            9.7  \n",
       "评价人数    2317937.0  \n",
       "时长(分钟)      237.0  "
      ]
     },
     "execution_count": 14,
     "metadata": {},
     "output_type": "execute_result"
    }
   ],
   "source": [
    "df.describe().round(2).T"
   ]
  },
  {
   "cell_type": "markdown",
   "metadata": {},
   "source": [
    "### 6 - 查看数据统计信息｜离散\n",
    "\n",
    "查看 **离散型** 列的统计信息，计数、频率什么"
   ]
  },
  {
   "cell_type": "code",
   "execution_count": 11,
   "metadata": {},
   "outputs": [
    {
     "data": {
      "text/html": [
       "<div>\n",
       "<style scoped>\n",
       "    .dataframe tbody tr th:only-of-type {\n",
       "        vertical-align: middle;\n",
       "    }\n",
       "\n",
       "    .dataframe tbody tr th {\n",
       "        vertical-align: top;\n",
       "    }\n",
       "\n",
       "    .dataframe thead th {\n",
       "        text-align: right;\n",
       "    }\n",
       "</style>\n",
       "<table border=\"1\" class=\"dataframe\">\n",
       "  <thead>\n",
       "    <tr style=\"text-align: right;\">\n",
       "      <th></th>\n",
       "      <th>片名</th>\n",
       "      <th>导演</th>\n",
       "      <th>编剧</th>\n",
       "      <th>主演</th>\n",
       "      <th>类型</th>\n",
       "      <th>国家/地区</th>\n",
       "      <th>语言</th>\n",
       "    </tr>\n",
       "  </thead>\n",
       "  <tbody>\n",
       "    <tr>\n",
       "      <th>count</th>\n",
       "      <td>262</td>\n",
       "      <td>262</td>\n",
       "      <td>262</td>\n",
       "      <td>262</td>\n",
       "      <td>262</td>\n",
       "      <td>256</td>\n",
       "      <td>256</td>\n",
       "    </tr>\n",
       "    <tr>\n",
       "      <th>unique</th>\n",
       "      <td>249</td>\n",
       "      <td>180</td>\n",
       "      <td>221</td>\n",
       "      <td>249</td>\n",
       "      <td>120</td>\n",
       "      <td>20</td>\n",
       "      <td>26</td>\n",
       "    </tr>\n",
       "    <tr>\n",
       "      <th>top</th>\n",
       "      <td>无人知晓</td>\n",
       "      <td>是枝裕和</td>\n",
       "      <td>是枝裕和</td>\n",
       "      <td>柳乐优弥 / 北浦爱 / 木村飞影 / 清水萌萌子 / 韩英惠 / 江原由希子 / 串田和美...</td>\n",
       "      <td>剧情</td>\n",
       "      <td>美国</td>\n",
       "      <td>英语</td>\n",
       "    </tr>\n",
       "    <tr>\n",
       "      <th>freq</th>\n",
       "      <td>5</td>\n",
       "      <td>8</td>\n",
       "      <td>7</td>\n",
       "      <td>5</td>\n",
       "      <td>24</td>\n",
       "      <td>111</td>\n",
       "      <td>72</td>\n",
       "    </tr>\n",
       "  </tbody>\n",
       "</table>\n",
       "</div>"
      ],
      "text/plain": [
       "          片名    导演    编剧                                                 主演  \\\n",
       "count    262   262   262                                                262   \n",
       "unique   249   180   221                                                249   \n",
       "top     无人知晓  是枝裕和  是枝裕和  柳乐优弥 / 北浦爱 / 木村飞影 / 清水萌萌子 / 韩英惠 / 江原由希子 / 串田和美...   \n",
       "freq       5     8     7                                                  5   \n",
       "\n",
       "         类型 国家/地区   语言  \n",
       "count   262   256  256  \n",
       "unique  120    20   26  \n",
       "top      剧情    美国  英语   \n",
       "freq     24   111   72  "
      ]
     },
     "execution_count": 11,
     "metadata": {},
     "output_type": "execute_result"
    }
   ],
   "source": [
    "df.describe(include=['O'])"
   ]
  },
  {
   "cell_type": "markdown",
   "metadata": {},
   "source": [
    "## 缺失值处理"
   ]
  },
  {
   "cell_type": "markdown",
   "metadata": {},
   "source": [
    "### 7 - 计算缺失值｜分列\n",
    "\n",
    "再看看具体每列有多少缺失值"
   ]
  },
  {
   "cell_type": "code",
   "execution_count": 30,
   "metadata": {},
   "outputs": [
    {
     "data": {
      "text/plain": [
       "片名        0\n",
       "上映年份      0\n",
       "评分        5\n",
       "评价人数      3\n",
       "导演        0\n",
       "编剧        0\n",
       "主演        0\n",
       "类型        0\n",
       "国家/地区     6\n",
       "语言        6\n",
       "时长(分钟)    6\n",
       "dtype: int64"
      ]
     },
     "execution_count": 30,
     "metadata": {},
     "output_type": "execute_result"
    }
   ],
   "source": [
    "df.isna().sum()"
   ]
  },
  {
   "cell_type": "markdown",
   "metadata": {},
   "source": [
    "### 8 - 计算缺失值｜总计"
   ]
  },
  {
   "cell_type": "markdown",
   "metadata": {},
   "source": [
    "通过上面的查看，我们发现部分列是存在缺失值的，那么先看看一共存在多少个缺失值"
   ]
  },
  {
   "cell_type": "code",
   "execution_count": 31,
   "metadata": {},
   "outputs": [
    {
     "data": {
      "text/plain": [
       "26"
      ]
     },
     "execution_count": 31,
     "metadata": {},
     "output_type": "execute_result"
    }
   ],
   "source": [
    "df.isna().sum().sum()"
   ]
  },
  {
   "cell_type": "markdown",
   "metadata": {},
   "source": [
    "### 9 - 查看缺失值\n",
    "\n",
    "</br>\n",
    "\n",
    "为了后面更方便的处理缺失值，现在先看看全部缺失值所在的行"
   ]
  },
  {
   "cell_type": "code",
   "execution_count": 37,
   "metadata": {},
   "outputs": [
    {
     "data": {
      "text/html": [
       "<div>\n",
       "<style scoped>\n",
       "    .dataframe tbody tr th:only-of-type {\n",
       "        vertical-align: middle;\n",
       "    }\n",
       "\n",
       "    .dataframe tbody tr th {\n",
       "        vertical-align: top;\n",
       "    }\n",
       "\n",
       "    .dataframe thead th {\n",
       "        text-align: right;\n",
       "    }\n",
       "</style>\n",
       "<table border=\"1\" class=\"dataframe\">\n",
       "  <thead>\n",
       "    <tr style=\"text-align: right;\">\n",
       "      <th></th>\n",
       "      <th>片名</th>\n",
       "      <th>上映年份</th>\n",
       "      <th>评分</th>\n",
       "      <th>评价人数</th>\n",
       "      <th>导演</th>\n",
       "      <th>编剧</th>\n",
       "      <th>主演</th>\n",
       "      <th>类型</th>\n",
       "      <th>国家/地区</th>\n",
       "      <th>语言</th>\n",
       "      <th>时长(分钟)</th>\n",
       "    </tr>\n",
       "  </thead>\n",
       "  <tbody>\n",
       "    <tr>\n",
       "      <th>6</th>\n",
       "      <td>千与千寻</td>\n",
       "      <td>2001</td>\n",
       "      <td>9.4</td>\n",
       "      <td>1822369.0</td>\n",
       "      <td>宫崎骏</td>\n",
       "      <td>宫崎骏</td>\n",
       "      <td>柊瑠美 / 入野自由 / 夏木真理 / 菅原文太 / 中村彰男 / 玉井夕海 / 神木隆之介...</td>\n",
       "      <td>剧情 / 动画 / 奇幻</td>\n",
       "      <td>日本</td>\n",
       "      <td>日语</td>\n",
       "      <td>NaN</td>\n",
       "    </tr>\n",
       "  </tbody>\n",
       "</table>\n",
       "</div>"
      ],
      "text/plain": [
       "     片名  上映年份   评分       评价人数   导演   编剧  \\\n",
       "6  千与千寻  2001  9.4  1822369.0  宫崎骏  宫崎骏   \n",
       "\n",
       "                                                  主演            类型 国家/地区  语言  \\\n",
       "6  柊瑠美 / 入野自由 / 夏木真理 / 菅原文太 / 中村彰男 / 玉井夕海 / 神木隆之介...  剧情 / 动画 / 奇幻    日本  日语   \n",
       "\n",
       "   时长(分钟)  \n",
       "6     NaN  "
      ]
     },
     "execution_count": 37,
     "metadata": {},
     "output_type": "execute_result"
    }
   ],
   "source": [
    "df[df.isnull().T.any() == True][:1]"
   ]
  },
  {
   "cell_type": "markdown",
   "metadata": {},
   "source": [
    "### 12 - 删除缺失值\n",
    "\n",
    "<br>\n",
    "\n",
    "处理缺失值最简单的方式，当然是将缺失值出现的行全部删掉～\n",
    "\n",
    "-> 现在，将缺失值出现的行全部删掉"
   ]
  },
  {
   "cell_type": "code",
   "execution_count": null,
   "metadata": {},
   "outputs": [],
   "source": [
    "df = df.dropna()"
   ]
  },
  {
   "cell_type": "markdown",
   "metadata": {},
   "source": [
    "### 13 - 缺失值补全｜整体填充\n",
    "\n",
    "<br>\n",
    "\n",
    "除了删除缺失值最省事之外，将全部缺失值替换为一个 **固定的值/文本** 也是一个较为省事的方法'\n",
    "\n",
    "-> 现在，将全部缺失值替换为 `*`"
   ]
  },
  {
   "cell_type": "code",
   "execution_count": null,
   "metadata": {},
   "outputs": [],
   "source": [
    "df = df.fillna('*') "
   ]
  },
  {
   "cell_type": "markdown",
   "metadata": {},
   "source": [
    "### 14 - 缺失值补全｜向上填充"
   ]
  },
  {
   "cell_type": "markdown",
   "metadata": {},
   "source": [
    "从上一小节的查看数据中，不难发现整理数据是按照评分进行降序排列的\n",
    "\n",
    "因此对于评分列的缺失值处理，我们可以用上一个电影的评分进行填充\n",
    "\n",
    "-> 现在将评分列的缺失值，替换为上一个电影的评分"
   ]
  },
  {
   "cell_type": "code",
   "execution_count": 76,
   "metadata": {},
   "outputs": [],
   "source": [
    "df['评分'] = df['评分'].fillna(\n",
    "    axis=0,method='ffill'\n",
    ")"
   ]
  },
  {
   "cell_type": "markdown",
   "metadata": {},
   "source": [
    "### 15 - 缺失值补全｜整体均值填充"
   ]
  },
  {
   "cell_type": "markdown",
   "metadata": {},
   "source": [
    "对于评价人数列的缺失值处理，我们可以使用整列的均值进行填充\n",
    "\n",
    "-> 现在，将评价人数列的缺失值，用整列的均值进行填充"
   ]
  },
  {
   "cell_type": "code",
   "execution_count": 89,
   "metadata": {},
   "outputs": [],
   "source": [
    "df['评价人数'] = df['评价人数'].fillna(\n",
    "    df['评价人数'].mean()\n",
    ")"
   ]
  },
  {
   "cell_type": "markdown",
   "metadata": {},
   "source": [
    "### 16 - 缺失值补全｜上下均值填充\n",
    "\n",
    "<br>\n",
    "\n",
    "除了可以使用整列的均值进行填充，也可以使用缺失值位置的上下均值进行填充、\n",
    "\n",
    "-> 现在，将评价人数列的缺失值，用上下数字的均值进行填充"
   ]
  },
  {
   "cell_type": "code",
   "execution_count": 97,
   "metadata": {},
   "outputs": [],
   "source": [
    "df['评价人数'] = df['评价人数'].fillna(\n",
    "    df['评价人数'].interpolate()\n",
    ")"
   ]
  },
  {
   "cell_type": "markdown",
   "metadata": {},
   "source": [
    "### 17 -缺失值补全｜匹配填充\n",
    "\n",
    "<br>\n",
    "\n",
    "除了利用均值填充，有时还需要根据另一列的值进行匹配填充\n",
    "\n",
    "-> 现在填充 “语言” 列的缺失值，要求根据 “国家/地区” 列的值进行填充\n",
    "\n",
    "> 例如 《海上钢琴师》国家/地区为 意大利，根据其他意大利国家对应的语言来看，应填充为 意大利语\n",
    "\n",
    "**注意：此题会有多种解法**"
   ]
  },
  {
   "cell_type": "code",
   "execution_count": 122,
   "metadata": {},
   "outputs": [],
   "source": [
    "df['语言']=df.groupby('国家/地区').语言.bfill()"
   ]
  },
  {
   "cell_type": "markdown",
   "metadata": {},
   "source": [
    "## 重复值处理"
   ]
  },
  {
   "cell_type": "markdown",
   "metadata": {},
   "source": [
    "### 18 - 查找重复值\n",
    "\n",
    "<br>\n",
    "\n",
    "将全部重复值所在的行筛选出来"
   ]
  },
  {
   "cell_type": "code",
   "execution_count": 39,
   "metadata": {},
   "outputs": [
    {
     "data": {
      "text/html": [
       "<div>\n",
       "<style scoped>\n",
       "    .dataframe tbody tr th:only-of-type {\n",
       "        vertical-align: middle;\n",
       "    }\n",
       "\n",
       "    .dataframe tbody tr th {\n",
       "        vertical-align: top;\n",
       "    }\n",
       "\n",
       "    .dataframe thead th {\n",
       "        text-align: right;\n",
       "    }\n",
       "</style>\n",
       "<table border=\"1\" class=\"dataframe\">\n",
       "  <thead>\n",
       "    <tr style=\"text-align: right;\">\n",
       "      <th></th>\n",
       "      <th>片名</th>\n",
       "      <th>上映年份</th>\n",
       "      <th>评分</th>\n",
       "      <th>评价人数</th>\n",
       "      <th>导演</th>\n",
       "      <th>编剧</th>\n",
       "      <th>主演</th>\n",
       "      <th>类型</th>\n",
       "      <th>国家/地区</th>\n",
       "      <th>语言</th>\n",
       "      <th>时长(分钟)</th>\n",
       "    </tr>\n",
       "  </thead>\n",
       "  <tbody>\n",
       "    <tr>\n",
       "      <th>111</th>\n",
       "      <td>无人知晓</td>\n",
       "      <td>2004</td>\n",
       "      <td>9.1</td>\n",
       "      <td>233881.0</td>\n",
       "      <td>是枝裕和</td>\n",
       "      <td>是枝裕和</td>\n",
       "      <td>柳乐优弥 / 北浦爱 / 木村飞影 / 清水萌萌子 / 韩英惠 / 江原由希子 / 串田和美...</td>\n",
       "      <td>剧情</td>\n",
       "      <td>日本</td>\n",
       "      <td>日语</td>\n",
       "      <td>141.0</td>\n",
       "    </tr>\n",
       "  </tbody>\n",
       "</table>\n",
       "</div>"
      ],
      "text/plain": [
       "       片名  上映年份   评分      评价人数    导演    编剧  \\\n",
       "111  无人知晓  2004  9.1  233881.0  是枝裕和  是枝裕和   \n",
       "\n",
       "                                                    主演  类型 国家/地区  语言  时长(分钟)  \n",
       "111  柳乐优弥 / 北浦爱 / 木村飞影 / 清水萌萌子 / 韩英惠 / 江原由希子 / 串田和美...  剧情    日本  日语   141.0  "
      ]
     },
     "execution_count": 39,
     "metadata": {},
     "output_type": "execute_result"
    }
   ],
   "source": [
    "df[df.duplicated()][:1]"
   ]
  },
  {
   "cell_type": "markdown",
   "metadata": {},
   "source": [
    "### 19 -查找重复值｜指定\n",
    "\n",
    "上面是所有列完全重复的情况，但有时我们只需要根据某列查找重复值\n",
    "\n",
    "-> 查找 片名 列全部重复值\n",
    "\n"
   ]
  },
  {
   "cell_type": "code",
   "execution_count": 40,
   "metadata": {},
   "outputs": [
    {
     "data": {
      "text/html": [
       "<div>\n",
       "<style scoped>\n",
       "    .dataframe tbody tr th:only-of-type {\n",
       "        vertical-align: middle;\n",
       "    }\n",
       "\n",
       "    .dataframe tbody tr th {\n",
       "        vertical-align: top;\n",
       "    }\n",
       "\n",
       "    .dataframe thead th {\n",
       "        text-align: right;\n",
       "    }\n",
       "</style>\n",
       "<table border=\"1\" class=\"dataframe\">\n",
       "  <thead>\n",
       "    <tr style=\"text-align: right;\">\n",
       "      <th></th>\n",
       "      <th>片名</th>\n",
       "      <th>上映年份</th>\n",
       "      <th>评分</th>\n",
       "      <th>评价人数</th>\n",
       "      <th>导演</th>\n",
       "      <th>编剧</th>\n",
       "      <th>主演</th>\n",
       "      <th>类型</th>\n",
       "      <th>国家/地区</th>\n",
       "      <th>语言</th>\n",
       "      <th>时长(分钟)</th>\n",
       "    </tr>\n",
       "  </thead>\n",
       "  <tbody>\n",
       "    <tr>\n",
       "      <th>111</th>\n",
       "      <td>无人知晓</td>\n",
       "      <td>2004</td>\n",
       "      <td>9.1</td>\n",
       "      <td>233881.0</td>\n",
       "      <td>是枝裕和</td>\n",
       "      <td>是枝裕和</td>\n",
       "      <td>柳乐优弥 / 北浦爱 / 木村飞影 / 清水萌萌子 / 韩英惠 / 江原由希子 / 串田和美...</td>\n",
       "      <td>剧情</td>\n",
       "      <td>日本</td>\n",
       "      <td>日语</td>\n",
       "      <td>141.0</td>\n",
       "    </tr>\n",
       "  </tbody>\n",
       "</table>\n",
       "</div>"
      ],
      "text/plain": [
       "       片名  上映年份   评分      评价人数    导演    编剧  \\\n",
       "111  无人知晓  2004  9.1  233881.0  是枝裕和  是枝裕和   \n",
       "\n",
       "                                                    主演  类型 国家/地区  语言  时长(分钟)  \n",
       "111  柳乐优弥 / 北浦爱 / 木村飞影 / 清水萌萌子 / 韩英惠 / 江原由希子 / 串田和美...  剧情    日本  日语   141.0  "
      ]
     },
     "execution_count": 40,
     "metadata": {},
     "output_type": "execute_result"
    }
   ],
   "source": [
    "df[df.duplicated(['片名'])][:1]"
   ]
  },
  {
   "cell_type": "markdown",
   "metadata": {},
   "source": [
    "### 20 - 删除重复值"
   ]
  },
  {
   "cell_type": "markdown",
   "metadata": {},
   "source": [
    "删除全部的重复值"
   ]
  },
  {
   "cell_type": "code",
   "execution_count": null,
   "metadata": {},
   "outputs": [],
   "source": [
    "df = df.drop_duplicates()"
   ]
  },
  {
   "cell_type": "markdown",
   "metadata": {},
   "source": [
    "### 21 - 删除重复值｜指定"
   ]
  },
  {
   "cell_type": "markdown",
   "metadata": {},
   "source": [
    "删除全部的重复值，但保留最后一次出现的值"
   ]
  },
  {
   "cell_type": "code",
   "execution_count": 142,
   "metadata": {},
   "outputs": [],
   "source": [
    "# default 'first'\n",
    "#  can be False : \n",
    "#     Drop all duplicates.\n",
    "df = df.drop_duplicates(keep = 'last')"
   ]
  }
 ],
 "metadata": {
  "kernelspec": {
   "display_name": "Python 3 (ipykernel)",
   "language": "python",
   "name": "python3"
  },
  "language_info": {
   "codemirror_mode": {
    "name": "ipython",
    "version": 3
   },
   "file_extension": ".py",
   "mimetype": "text/x-python",
   "name": "python",
   "nbconvert_exporter": "python",
   "pygments_lexer": "ipython3",
   "version": "3.9.12"
  },
  "toc": {
   "base_numbering": 1,
   "nav_menu": {},
   "number_sections": false,
   "sideBar": true,
   "skip_h1_title": false,
   "title_cell": "Table of Contents",
   "title_sidebar": "Contents",
   "toc_cell": false,
   "toc_position": {
    "height": "calc(100% - 180px)",
    "left": "10px",
    "top": "150px",
    "width": "238px"
   },
   "toc_section_display": true,
   "toc_window_display": false
  }
 },
 "nbformat": 4,
 "nbformat_minor": 4
}
