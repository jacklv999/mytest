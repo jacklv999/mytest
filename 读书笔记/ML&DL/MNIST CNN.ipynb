{
 "cells": [
  {
   "cell_type": "code",
   "execution_count": 33,
   "id": "f5b46852",
   "metadata": {},
   "outputs": [],
   "source": [
    "import numpy as np\n",
    "import math\n",
    "import random\n",
    "import torch\n",
    "import torch.nn as nn\n",
    "import torch.nn.functional as F\n",
    "import torch.optim as optim\n",
    "from torchvision import datasets, transforms"
   ]
  },
  {
   "cell_type": "code",
   "execution_count": 81,
   "id": "5160dba1",
   "metadata": {},
   "outputs": [],
   "source": [
    "## download and preparing data\n",
    "\n",
    "def setup_seed(seed):\n",
    "     torch.manual_seed(seed)\n",
    "     np.random.seed(seed)\n",
    "     random.seed(seed)\n",
    "     torch.backends.cudnn.deterministic = True\n",
    "\n",
    "setup_seed(0)\n",
    "\n",
    "BATCH_SIZE = 1024 # 大概需要2G的显存\n",
    "EPOCHS = 20 # 总共训练批次\n",
    "DEVICE = torch.device(\"cuda\" if torch.cuda.is_available() else \"cpu\") \n",
    "\n",
    "# 下载训练集\n",
    "train_loader = torch.utils.data.DataLoader(\n",
    "    datasets.MNIST('data', train = True,download=True,transform = transforms.Compose([\n",
    "        transforms.ToTensor(),\n",
    "        #transforms.Normalize((0.1307,), (0.3081,)),\n",
    "        transforms.Pad(1)\n",
    "    ])),\n",
    "    batch_size = BATCH_SIZE, shuffle = True)\n",
    "\n",
    "# 测试集\n",
    "test_loader = torch.utils.data.DataLoader(\n",
    "    datasets.MNIST('data', train = False, transform = transforms.Compose([\n",
    "        transforms.ToTensor(),\n",
    "        #transforms.Normalize((0.1307,), (0.3081,)),\n",
    "        transforms.Pad(1),\n",
    "    ])),\n",
    "    batch_size = BATCH_SIZE, shuffle = True)\n",
    "\n",
    "\n",
    "examples = enumerate(test_loader)\n",
    "batch_idx, (example_data, example_targets) = next(examples)\n",
    "print(example_targets[0:9])\n",
    "print(example_data.shape)"
   ]
  },
  {
   "cell_type": "code",
   "execution_count": 63,
   "id": "24d6729c",
   "metadata": {
    "collapsed": true
   },
   "outputs": [
    {
     "data": {
      "image/png": "[encoded data removed]",
      "text/plain": [
       "<Figure size 432x288 with 6 Axes>"
      ]
     },
     "metadata": {},
     "output_type": "display_data"
    }
   ],
   "source": [
    "## viz sample data\n",
    "import matplotlib.pyplot as plt\n",
    "fig = plt.figure()\n",
    "for i in range(6):\n",
    "  plt.subplot(2,3,i+1)\n",
    "  plt.tight_layout()\n",
    "  plt.imshow(example_data[i][0], cmap='gray', interpolation='none')\n",
    "  plt.title(\"Ground Truth: {}\".format(example_targets[i]))\n",
    "  plt.xticks([])\n",
    "  plt.yticks([])\n",
    "plt.show()\n",
    "\n",
    "\n",
    "import matplotlib.pyplot as plt\n",
    "plt.imshow(example_data[1][0], cmap='gray', interpolation='none')\n",
    "plt.title(\"Ground Truth: {}\".format(example_targets[1]))\n",
    "plt.xticks([])\n",
    "plt.yticks([])\n",
    "plt.show()"
   ]
  },
  {
   "cell_type": "code",
   "execution_count": 213,
   "id": "ebd2726d",
   "metadata": {},
   "outputs": [
    {
     "name": "stdout",
     "output_type": "stream",
     "text": [
      "(9225, 10, 10)\n",
      "(9225,)\n"
     ]
    }
   ],
   "source": [
    "## decompose data and targets\n",
    "## divide mat\n",
    "def divide_mat(img_mat,img_size):\n",
    "    img_mat[img_mat>0] = 1\n",
    "    mat_num = np.array(img_mat).shape[0]/img_size\n",
    "    ## error handling\n",
    "    if mat_num//1 != mat_num:\n",
    "        print(\"wrong img_size\")\n",
    "        return 0\n",
    "    ## create tmp variable\n",
    "    mat_num = int(mat_num)\n",
    "    tmp_ndarray = np.zeros([mat_num*mat_num,img_size,img_size])\n",
    "    tmp_targets = np.zeros(mat_num*mat_num)\n",
    "    ## divide mat\n",
    "    k = 0\n",
    "    for i in range(mat_num):\n",
    "        tmp_array = np.array_split(img_mat,mat_num)\n",
    "        for j in range(mat_num):\n",
    "            tmp_ndarray[k,:,:] = np.hsplit(tmp_array[i],mat_num)[j]\n",
    "            k = k + 1\n",
    "            \n",
    "    for idx in range(k):\n",
    "        if tmp_ndarray[idx].sum()/(img_size*img_size)>0.3:\n",
    "            tmp_targets[idx] = 1\n",
    "            \n",
    "    return tmp_ndarray,tmp_targets\n",
    "    \n",
    "img_size = 10\n",
    "data_set,tag_set = divide_mat(example_data[1][0],img_size)\n",
    "for i in range(BATCH_SIZE):\n",
    "    tmp_data,tmp_tag = divide_mat(example_data[i][0],img_size)\n",
    "    data_set = np.concatenate((data_set,tmp_data))\n",
    "    tag_set = np.concatenate((tag_set,tmp_tag))\n",
    "    \n",
    "print(data_set.shape)\n",
    "print(tag_set.shape)\n",
    "\n",
    "## futher data process\n",
    "#np.random.uniform(low=0.0, high=1.0)"
   ]
  },
  {
   "cell_type": "code",
   "execution_count": 214,
   "id": "791d29f2",
   "metadata": {
    "collapsed": true
   },
   "outputs": [
    {
     "data": {
      "image/png": "[encoded data removed]",
      "text/plain": [
       "<Figure size 720x720 with 9 Axes>"
      ]
     },
     "metadata": {},
     "output_type": "display_data"
    }
   ],
   "source": [
    "## viz generated data\n",
    "import matplotlib.pyplot as plt\n",
    "fig = plt.figure(figsize=(10,10))\n",
    "for i in range(9):\n",
    "  plt.subplot(3,3,i+1)\n",
    "  plt.imshow(tmp_data[i], cmap='gray', interpolation='none')\n",
    "  plt.title(\"{}\".format(int(tmp_tag[i])))\n",
    "  plt.xticks([])\n",
    "  plt.yticks([])\n",
    "plt.subplots_adjust(wspace =0.25, hspace =0.25)\n",
    "plt.show()"
   ]
  },
  {
   "cell_type": "markdown",
   "id": "977dcfda",
   "metadata": {},
   "source": [
    "# build the NN"
   ]
  },
  {
   "cell_type": "code",
   "execution_count": 306,
   "id": "6f61e56b",
   "metadata": {},
   "outputs": [],
   "source": [
    "class Net(nn.Module):\n",
    "    def __init__(self):\n",
    "        super(Net, self).__init__()\n",
    "        self.conv1 = nn.Conv2d(1, 40, 5, 1)\n",
    "        self.max_pool = nn.MaxPool2d(2,1)\n",
    "        self.conv2 = nn.Conv2d(40, 12, 3, 1)\n",
    "        self.conv3 = nn.Conv2d(12, 12, 3, 1)\n",
    "        self.fc = nn.Linear(12, 1)\n",
    "\n",
    "    def forward(self, x):\n",
    "        x = self.conv1(x)\n",
    "        x = F.relu(x)\n",
    "        x = self.max_pool(x)\n",
    "        x = self.conv2(x)\n",
    "        x = F.relu(x)\n",
    "        x = self.conv3(x)\n",
    "        x = F.relu(x)\n",
    "        x = torch.flatten(x, 1)\n",
    "        x = self.fc(x)\n",
    "        output = F.sigmoid(x)\n",
    "        return output\n",
    "\n",
    "model = Net().to(DEVICE)"
   ]
  },
  {
   "cell_type": "markdown",
   "id": "d6dae616",
   "metadata": {},
   "source": [
    "# make a dataloader"
   ]
  },
  {
   "cell_type": "code",
   "execution_count": 253,
   "id": "b1454b92",
   "metadata": {},
   "outputs": [],
   "source": [
    "from torch.utils.data import Dataset, DataLoader\n",
    "\n",
    "class Cstd_Data(Dataset):\n",
    "    def __init__(self, data_set, tag_set):\n",
    "        self.img_ndarray = data_set\n",
    "        self.tag_set = tag_set\n",
    "        self.len = len(self.tag_set)\n",
    " \n",
    "    def __getitem__(self, i):\n",
    "        img = self.img_ndarray[i]\n",
    "        label=np.array(self.tag_set[i])\n",
    "        return img, label\n",
    " \n",
    "    def __len__(self):\n",
    "        data_len = len(self.tag_set)\n",
    "        return data_len\n",
    "    \n",
    "train_data = Cstd_Data(data_set, tag_set)"
   ]
  },
  {
   "cell_type": "markdown",
   "id": "8938087e",
   "metadata": {},
   "source": [
    "# Train model"
   ]
  },
  {
   "cell_type": "code",
   "execution_count": 307,
   "id": "21e35f1f",
   "metadata": {
    "scrolled": false
   },
   "outputs": [
    {
     "name": "stdout",
     "output_type": "stream",
     "text": [
      "Train Epoch: 1 [3328/9225 (36%)]\tLoss: 0.156603\n",
      "Train Epoch: 2 [6784/9225 (73%)]\tLoss: 0.061777\n",
      "Train Epoch: 4 [896/9225 (10%)]\tLoss: 0.069586\n",
      "Train Epoch: 5 [4352/9225 (47%)]\tLoss: 0.039447\n",
      "Train Epoch: 6 [7808/9225 (84%)]\tLoss: 0.050558\n",
      "Train Epoch: 8 [1920/9225 (21%)]\tLoss: 0.032288\n",
      "Train Epoch: 9 [5376/9225 (58%)]\tLoss: 0.026263\n"
     ]
    }
   ],
   "source": [
    "model.train()\n",
    "B_S = 128\n",
    "Epoch = 10\n",
    "\n",
    "train_loader = torch.utils.data.DataLoader(train_data, batch_size = B_S, shuffle = True)\n",
    "\n",
    "optimizer = optim.SGD(model.parameters(), lr=0.01, momentum=0.9)\n",
    "model.train()\n",
    "num = 0\n",
    "\n",
    "for epoch in range(Epoch):\n",
    "    for batch_idx, (data, target) in enumerate(train_loader):\n",
    "        data, target = data.float().to(DEVICE), target.to(DEVICE)\n",
    "        optimizer.zero_grad()\n",
    "        output_tmp = model(data.unsqueeze(1)).double()\n",
    "        output = output_tmp.reshape(output_tmp.shape[0])\n",
    "        loss = F.binary_cross_entropy(output, target)\n",
    "        loss.backward()\n",
    "        optimizer.step()\n",
    "        num = num + 1\n",
    "        if num%100 == 0:\n",
    "            print('Train Epoch: {} [{}/{} ({:.0f}%)]\\tLoss: {:.6f}'.format(\n",
    "                epoch, batch_idx * len(data), len(train_loader.dataset),\n",
    "                100. * batch_idx / len(train_loader), loss.item()))\n"
   ]
  },
  {
   "cell_type": "markdown",
   "id": "203a3bbe",
   "metadata": {},
   "source": [
    "# visualizing model result"
   ]
  },
  {
   "cell_type": "code",
   "execution_count": 311,
   "id": "c6b50e6a",
   "metadata": {},
   "outputs": [
    {
     "data": {
      "text/plain": [
       "tensor([1., 0., 0., 0., 0., 0., 1., 0., 0.], dtype=torch.float64,\n",
       "       grad_fn=<RoundBackward>)"
      ]
     },
     "execution_count": 311,
     "metadata": {},
     "output_type": "execute_result"
    }
   ],
   "source": [
    "output.round()"
   ]
  },
  {
   "cell_type": "code",
   "execution_count": 312,
   "id": "6398ab62",
   "metadata": {},
   "outputs": [
    {
     "data": {
      "text/plain": [
       "tensor([1., 0., 0., 0., 0., 0., 1., 0., 0.], dtype=torch.float64)"
      ]
     },
     "execution_count": 312,
     "metadata": {},
     "output_type": "execute_result"
    }
   ],
   "source": [
    "target"
   ]
  },
  {
   "cell_type": "code",
   "execution_count": null,
   "id": "31afd183",
   "metadata": {},
   "outputs": [],
   "source": []
  }
 ],
 "metadata": {
  "kernelspec": {
   "display_name": "Python 3",
   "language": "python",
   "name": "python3"
  },
  "language_info": {
   "codemirror_mode": {
    "name": "ipython",
    "version": 3
   },
   "file_extension": ".py",
   "mimetype": "text/x-python",
   "name": "python",
   "nbconvert_exporter": "python",
   "pygments_lexer": "ipython3",
   "version": "3.9.5"
  }
 },
 "nbformat": 4,
 "nbformat_minor": 5
}
