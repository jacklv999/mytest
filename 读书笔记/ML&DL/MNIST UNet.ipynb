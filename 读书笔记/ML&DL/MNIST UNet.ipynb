{
 "cells": [
  {
   "cell_type": "markdown",
   "id": "d03d6466",
   "metadata": {},
   "source": [
    "# simple demo for UNet"
   ]
  },
  {
   "cell_type": "code",
   "execution_count": 1,
   "id": "6168553f",
   "metadata": {},
   "outputs": [],
   "source": [
    "import numpy as np\n",
    "import math\n",
    "import random\n",
    "import torch\n",
    "import torch.nn as nn\n",
    "import torch.nn.functional as F\n",
    "import torch.optim as optim\n",
    "from torchvision import datasets, transforms"
   ]
  },
  {
   "cell_type": "markdown",
   "id": "5ac80b7d",
   "metadata": {},
   "source": [
    "# download dataset"
   ]
  },
  {
   "cell_type": "code",
   "execution_count": 219,
   "id": "ad0b115d",
   "metadata": {},
   "outputs": [
    {
     "name": "stdout",
     "output_type": "stream",
     "text": [
      "tensor([6, 8, 8, 7, 8, 0, 0, 5, 6])\n",
      "torch.Size([2048, 1, 32, 32])\n"
     ]
    }
   ],
   "source": [
    "## download and preparing data\n",
    "def setup_seed(seed):\n",
    "     torch.manual_seed(seed)\n",
    "     np.random.seed(seed)\n",
    "     random.seed(seed)\n",
    "     torch.backends.cudnn.deterministic = True\n",
    "\n",
    "setup_seed(0)\n",
    "\n",
    "BATCH_SIZE = 2048\n",
    "DEVICE = torch.device(\"cuda\" if torch.cuda.is_available() else \"cpu\") \n",
    "\n",
    "# 下载训练集\n",
    "train_loader = torch.utils.data.DataLoader(\n",
    "    datasets.MNIST('data', train = True,download=True,transform = transforms.Compose([\n",
    "        transforms.ToTensor(),\n",
    "        transforms.Pad(2)\n",
    "    ])),\n",
    "    batch_size = BATCH_SIZE, shuffle = True)\n",
    "\n",
    "\n",
    "examples = enumerate(train_loader)\n",
    "batch_idx, (example_data, example_targets) = next(examples)\n",
    "print(example_targets[0:9])\n",
    "print(example_data.shape)"
   ]
  },
  {
   "cell_type": "markdown",
   "id": "f9258598",
   "metadata": {},
   "source": [
    "# viz sample data"
   ]
  },
  {
   "cell_type": "code",
   "execution_count": 220,
   "id": "d94a1634",
   "metadata": {
    "scrolled": true
   },
   "outputs": [
    {
     "data": {
      "image/png": "[encoded data removed]",
      "text/plain": [
       "<Figure size 432x288 with 6 Axes>"
      ]
     },
     "metadata": {},
     "output_type": "display_data"
    }
   ],
   "source": [
    "import matplotlib.pyplot as plt\n",
    "fig = plt.figure()\n",
    "for i in range(6):\n",
    "  plt.subplot(2,3,i+1)\n",
    "  plt.tight_layout()\n",
    "  plt.imshow(example_data[i][0], cmap='gray', interpolation='none')\n",
    "  plt.title(\"Ground Truth: {}\".format(example_targets[i]))\n",
    "  plt.xticks([])\n",
    "  plt.yticks([])\n",
    "plt.show()"
   ]
  },
  {
   "cell_type": "markdown",
   "id": "d682e3ef",
   "metadata": {},
   "source": [
    "# generate ground truth"
   ]
  },
  {
   "cell_type": "code",
   "execution_count": 221,
   "id": "e2e1e2f5",
   "metadata": {},
   "outputs": [
    {
     "data": {
      "image/png": "[encoded data removed]",
      "text/plain": [
       "<Figure size 432x288 with 1 Axes>"
      ]
     },
     "metadata": {},
     "output_type": "display_data"
    }
   ],
   "source": [
    "## viz generated data\n",
    "tmp_data = example_data[0][0]\n",
    "tmp_data[tmp_data>0]=1\n",
    "\n",
    "fig = plt.figure()\n",
    "plt.imshow(example_data[0][0], cmap='gray', interpolation='none')\n",
    "plt.xticks([])\n",
    "plt.yticks([])\n",
    "plt.show()"
   ]
  },
  {
   "cell_type": "markdown",
   "id": "2957ad63",
   "metadata": {},
   "source": [
    "# generate fake data sample"
   ]
  },
  {
   "cell_type": "code",
   "execution_count": 203,
   "id": "beab78f7",
   "metadata": {
    "scrolled": true
   },
   "outputs": [
    {
     "data": {
      "image/png": "[encoded data removed]",
      "text/plain": [
       "<Figure size 432x288 with 1 Axes>"
      ]
     },
     "metadata": {},
     "output_type": "display_data"
    }
   ],
   "source": [
    "## viz generated data\n",
    "tmp_data = example_data[0][0]\n",
    "tmp_data[tmp_data>0]=1\n",
    "tmp_data[tmp_data==0]= torch.FloatTensor(np.random.random(tmp_data.shape)[tmp_data==0])\n",
    "\n",
    "fig = plt.figure()\n",
    "plt.imshow(example_data[0][0], cmap='gray', interpolation='none')\n",
    "plt.xticks([])\n",
    "plt.yticks([])\n",
    "plt.show()"
   ]
  },
  {
   "cell_type": "markdown",
   "id": "e462acf0",
   "metadata": {},
   "source": [
    "# function for fake data/label"
   ]
  },
  {
   "cell_type": "code",
   "execution_count": 185,
   "id": "8c90d27b",
   "metadata": {},
   "outputs": [],
   "source": [
    "## make fake data\n",
    "def fake_data_label(img_mat):\n",
    "    img_mat[img_mat>0] = 1\n",
    "    ## generate label\n",
    "    label = img_mat\n",
    "    ## generate data\n",
    "    fill = img_mat==0\n",
    "    img_mat[fill] = torch.FloatTensor(np.random.random(img_mat.shape)[fill])\n",
    "            \n",
    "    return img_mat,label\n",
    "    \n",
    "\n",
    "data_set,tag_set = fake_data_label(example_data[0][0])\n",
    "data_set = data_set.reshape(1,data_set.shape[0],data_set.shape[1])\n",
    "tag_set = tag_set.reshape(1,tag_set.shape[0],tag_set.shape[1])"
   ]
  },
  {
   "cell_type": "markdown",
   "id": "60fc9540",
   "metadata": {},
   "source": [
    "# convert all data/label"
   ]
  },
  {
   "cell_type": "code",
   "execution_count": 186,
   "id": "82f26301",
   "metadata": {},
   "outputs": [
    {
     "name": "stdout",
     "output_type": "stream",
     "text": [
      "(2048, 32, 32)\n",
      "(2048, 32, 32)\n"
     ]
    }
   ],
   "source": [
    "for i in range(BATCH_SIZE):\n",
    "    if i==0:\n",
    "        continue\n",
    "    tmp_data,tmp_tag = fake_data_label(example_data[i][0])\n",
    "    tmp_data = tmp_data.reshape(1,tmp_data.shape[0],tmp_data.shape[1])\n",
    "    tmp_tag = tmp_tag.reshape(1,tmp_tag.shape[0],tmp_tag.shape[1])\n",
    "    data_set = np.concatenate((data_set,tmp_data))\n",
    "    tag_set = np.concatenate((tag_set,tmp_tag))\n",
    "    \n",
    "print(data_set.shape)\n",
    "print(tag_set.shape)"
   ]
  },
  {
   "cell_type": "markdown",
   "id": "dc32ae57",
   "metadata": {},
   "source": [
    "# build the dataset and dataloader"
   ]
  },
  {
   "cell_type": "code",
   "execution_count": 188,
   "id": "219b1557",
   "metadata": {},
   "outputs": [],
   "source": [
    "from torch.utils.data import Dataset, DataLoader\n",
    "\n",
    "class Cstd_Data(Dataset):\n",
    "    def __init__(self, data_set, tag_set):\n",
    "        self.img_ndarray = data_set\n",
    "        self.tag_set = tag_set\n",
    "        self.len = len(self.tag_set)\n",
    " \n",
    "    def __getitem__(self, i):\n",
    "        img = self.img_ndarray[i]\n",
    "        label=np.array(self.tag_set[i])\n",
    "        return img, label\n",
    " \n",
    "    def __len__(self):\n",
    "        data_len = len(self.tag_set)\n",
    "        return data_len\n",
    "    \n",
    "train_data = Cstd_Data(data_set, tag_set)"
   ]
  },
  {
   "cell_type": "markdown",
   "id": "d08d21b8",
   "metadata": {},
   "source": [
    "# make NN"
   ]
  },
  {
   "cell_type": "code",
   "execution_count": null,
   "id": "ae881c5a",
   "metadata": {},
   "outputs": [],
   "source": [
    "32*32 -- 32*32 -- 32*32                                                                                32*32 -- 32*32 -- 32*32\n",
    "                     |                                                                                   |\n",
    "                    16*16 -- 16*16 -- 16*16                                         16*16 -- 16*16 -- 16*16\n",
    "                                          |                                           |    \n",
    "                                         8*8 -- 8*8 -- 8*8             8*8 -- 8*8 -- 8*8\n",
    "                                                        |               |        \n",
    "                                                       4*4 -- 4*4 -- 4*4"
   ]
  },
  {
   "cell_type": "code",
   "execution_count": 194,
   "id": "1fbcc26b",
   "metadata": {},
   "outputs": [],
   "source": [
    "class UNet(nn.Module):\n",
    "    def __init__(self):\n",
    "        super(UNet, self).__init__()\n",
    "        self.part_1 = nn.Sequential(\n",
    "            nn.Conv2d(1, 32, kernel_size=3, padding=1),\n",
    "            nn.BatchNorm2d(32),\n",
    "            nn.ReLU(inplace=True),\n",
    "            nn.Conv2d(32, 32, kernel_size=3, padding=1),\n",
    "            nn.BatchNorm2d(32),\n",
    "            nn.ReLU(inplace=True)\n",
    "        )\n",
    "        self.max_pool_1 = nn.MaxPool2d(2)\n",
    "        self.part_2 = nn.Sequential(\n",
    "            nn.Conv2d(32, 64, kernel_size=3, padding=1),\n",
    "            nn.BatchNorm2d(64),\n",
    "            nn.ReLU(inplace=True),\n",
    "            nn.Conv2d(64, 64, kernel_size=3, padding=1),\n",
    "            nn.BatchNorm2d(64),\n",
    "            nn.ReLU(inplace=True)\n",
    "        )\n",
    "        self.max_pool_2 = nn.MaxPool2d(2)\n",
    "        self.part_3 = nn.Sequential(\n",
    "            nn.Conv2d(64, 128, kernel_size=3, padding=1),\n",
    "            nn.BatchNorm2d(128),\n",
    "            nn.ReLU(inplace=True),\n",
    "            nn.Conv2d(128, 128, kernel_size=3, padding=1),\n",
    "            nn.BatchNorm2d(128),\n",
    "            nn.ReLU(inplace=True)\n",
    "        )\n",
    "        self.max_pool_3 = nn.MaxPool2d(2)\n",
    "        self.part_4 = nn.Sequential(\n",
    "            nn.Conv2d(128, 256, kernel_size=3, padding=1),\n",
    "            nn.BatchNorm2d(256),\n",
    "            nn.ReLU(inplace=True),\n",
    "            nn.Conv2d(256, 256, kernel_size=3, padding=1),\n",
    "            nn.BatchNorm2d(256),\n",
    "            nn.ReLU(inplace=True)\n",
    "        )\n",
    "        self.upconv_1 = nn.UpsamplingBilinear2d(8)\n",
    "        self.part_5 = nn.Sequential(\n",
    "            nn.Conv2d(384, 128, kernel_size=3, padding=1),\n",
    "            nn.BatchNorm2d(128),\n",
    "            nn.ReLU(inplace=True),\n",
    "            nn.Conv2d(128, 128, kernel_size=3, padding=1),\n",
    "            nn.BatchNorm2d(128),\n",
    "            nn.ReLU(inplace=True)\n",
    "        )\n",
    "        self.upconv_2 = nn.UpsamplingBilinear2d(16)\n",
    "        self.part_6 = nn.Sequential(\n",
    "            nn.Conv2d(192, 64, kernel_size=3, padding=1),\n",
    "            nn.BatchNorm2d(64),\n",
    "            nn.ReLU(inplace=True),\n",
    "            nn.Conv2d(64, 64, kernel_size=3, padding=1),\n",
    "            nn.BatchNorm2d(64),\n",
    "            nn.ReLU(inplace=True)\n",
    "        )\n",
    "        self.upconv_3 = nn.UpsamplingBilinear2d(32)\n",
    "        self.part_7 = nn.Sequential(\n",
    "            nn.Conv2d(96, 32, kernel_size=3, padding=1),\n",
    "            nn.BatchNorm2d(32),\n",
    "            nn.ReLU(inplace=True),\n",
    "            nn.Conv2d(32, 32, kernel_size=3, padding=1),\n",
    "            nn.BatchNorm2d(32),\n",
    "            nn.ReLU(inplace=True),\n",
    "            nn.Conv2d(32,1,1)\n",
    "        )\n",
    "\n",
    "    def forward(self, x):\n",
    "        x_1 = self.part_1(x)                  ## 32*32\n",
    "        x_2 = self.max_pool_1(x_1)\n",
    "        x_2 = self.part_2(x_2)                ## 16*16\n",
    "        x_3 = self.max_pool_2(x_2)\n",
    "        x_3 = self.part_3(x_3)                ## 8*8\n",
    "        x_4 = self.max_pool_3(x_3)\n",
    "        x_4 = self.part_4(x_4)\n",
    "        x_4 = self.upconv_1(x_4)\n",
    "        x_4 = torch.cat([x_4,x_3],dim=1)\n",
    "        x_4 = self.part_5(x_4)\n",
    "        x_4 = self.upconv_2(x_4)\n",
    "        x_4 = torch.cat([x_4,x_2],dim=1)\n",
    "        x_4 = self.part_6(x_4)\n",
    "        x_4 = self.upconv_3(x_4)\n",
    "        x_4 = torch.cat([x_4,x_1],dim=1)\n",
    "        x_4 = self.part_7(x_4)\n",
    "        output = torch.sigmoid(x_4)\n",
    "        return output\n",
    "\n",
    "model = UNet().to(DEVICE)"
   ]
  },
  {
   "cell_type": "markdown",
   "id": "6af40c00",
   "metadata": {},
   "source": [
    "# train model"
   ]
  },
  {
   "cell_type": "code",
   "execution_count": 192,
   "id": "97920be5",
   "metadata": {},
   "outputs": [
    {
     "name": "stdout",
     "output_type": "stream",
     "text": [
      "Train Epoch: 0 [1568/2048 (77%)]\tLoss: 0.021372\n",
      "Train Epoch: 1 [1120/2048 (55%)]\tLoss: 0.005887\n",
      "Train Epoch: 2 [672/2048 (33%)]\tLoss: 0.003030\n",
      "Train Epoch: 3 [224/2048 (11%)]\tLoss: 0.002255\n",
      "Train Epoch: 3 [1824/2048 (89%)]\tLoss: 0.001937\n",
      "Train Epoch: 4 [1376/2048 (67%)]\tLoss: 0.001782\n",
      "Train Epoch: 5 [928/2048 (45%)]\tLoss: 0.001671\n",
      "Train Epoch: 6 [480/2048 (23%)]\tLoss: 0.001632\n",
      "Train Epoch: 7 [32/2048 (2%)]\tLoss: 0.001540\n",
      "Train Epoch: 7 [1632/2048 (80%)]\tLoss: 0.001465\n",
      "Train Epoch: 8 [1184/2048 (58%)]\tLoss: 0.001495\n",
      "Train Epoch: 9 [736/2048 (36%)]\tLoss: 0.001403\n"
     ]
    }
   ],
   "source": [
    "model.train()\n",
    "B_S = 32\n",
    "Epoch = 10\n",
    "num = 0\n",
    "\n",
    "train_loader = torch.utils.data.DataLoader(train_data, batch_size = B_S, shuffle = True)\n",
    "optimizer = optim.SGD(model.parameters(), lr=0.01, momentum=0.9)\n",
    "model.train()\n",
    "\n",
    "for epoch in range(Epoch):\n",
    "    for batch_idx, (data, target) in enumerate(train_loader):\n",
    "        data, target = data.float().to(DEVICE), target.unsqueeze(1).to(DEVICE)\n",
    "        optimizer.zero_grad()\n",
    "        output = model(data.unsqueeze(1))\n",
    "        loss = F.mse_loss(output, target)\n",
    "        loss.backward()\n",
    "        optimizer.step()\n",
    "        num = num + 1\n",
    "        if num%50 == 0:\n",
    "            print('Train Epoch: {} [{}/{} ({:.0f}%)]\\tLoss: {:.6f}'.format(\n",
    "                epoch, batch_idx * len(data), len(train_loader.dataset),\n",
    "                100. * batch_idx / len(train_loader), loss.item()))"
   ]
  },
  {
   "cell_type": "code",
   "execution_count": 195,
   "id": "45223e77",
   "metadata": {},
   "outputs": [
    {
     "name": "stdout",
     "output_type": "stream",
     "text": [
      "Train Epoch: 0 [608/2048 (30%)]\tLoss: 0.060752\n",
      "Train Epoch: 0 [1248/2048 (61%)]\tLoss: 0.034073\n",
      "Train Epoch: 0 [1888/2048 (92%)]\tLoss: 0.019015\n",
      "Train Epoch: 1 [480/2048 (23%)]\tLoss: 0.012087\n",
      "Train Epoch: 1 [1120/2048 (55%)]\tLoss: 0.008962\n",
      "Train Epoch: 1 [1760/2048 (86%)]\tLoss: 0.007282\n",
      "Train Epoch: 2 [352/2048 (17%)]\tLoss: 0.006234\n",
      "Train Epoch: 2 [992/2048 (48%)]\tLoss: 0.005566\n",
      "Train Epoch: 2 [1632/2048 (80%)]\tLoss: 0.005075\n",
      "Train Epoch: 3 [224/2048 (11%)]\tLoss: 0.004672\n",
      "Train Epoch: 3 [864/2048 (42%)]\tLoss: 0.004507\n",
      "Train Epoch: 3 [1504/2048 (73%)]\tLoss: 0.004277\n",
      "Train Epoch: 4 [96/2048 (5%)]\tLoss: 0.004029\n",
      "Train Epoch: 4 [736/2048 (36%)]\tLoss: 0.003934\n",
      "Train Epoch: 4 [1376/2048 (67%)]\tLoss: 0.003793\n",
      "Train Epoch: 4 [2016/2048 (98%)]\tLoss: 0.003633\n",
      "Train Epoch: 5 [608/2048 (30%)]\tLoss: 0.003433\n",
      "Train Epoch: 5 [1248/2048 (61%)]\tLoss: 0.003397\n",
      "Train Epoch: 5 [1888/2048 (92%)]\tLoss: 0.003340\n",
      "Train Epoch: 6 [480/2048 (23%)]\tLoss: 0.003226\n",
      "Train Epoch: 6 [1120/2048 (55%)]\tLoss: 0.003150\n",
      "Train Epoch: 6 [1760/2048 (86%)]\tLoss: 0.003031\n",
      "Train Epoch: 7 [352/2048 (17%)]\tLoss: 0.003055\n",
      "Train Epoch: 7 [992/2048 (48%)]\tLoss: 0.002873\n",
      "Train Epoch: 7 [1632/2048 (80%)]\tLoss: 0.002887\n",
      "Train Epoch: 8 [224/2048 (11%)]\tLoss: 0.002825\n",
      "Train Epoch: 8 [864/2048 (42%)]\tLoss: 0.002735\n",
      "Train Epoch: 8 [1504/2048 (73%)]\tLoss: 0.002701\n",
      "Train Epoch: 9 [96/2048 (5%)]\tLoss: 0.002660\n",
      "Train Epoch: 9 [736/2048 (36%)]\tLoss: 0.002751\n",
      "Train Epoch: 9 [1376/2048 (67%)]\tLoss: 0.002563\n",
      "Train Epoch: 9 [2016/2048 (98%)]\tLoss: 0.002527\n"
     ]
    }
   ],
   "source": [
    "model.train()\n",
    "B_S = 32\n",
    "Epoch = 10\n",
    "num = 0\n",
    "\n",
    "train_loader = torch.utils.data.DataLoader(train_data, batch_size = B_S, shuffle = True)\n",
    "optimizer = optim.SGD(model.parameters(), lr=0.01, momentum=0.9)\n",
    "model.train()\n",
    "\n",
    "for epoch in range(Epoch):\n",
    "    for batch_idx, (data, target) in enumerate(train_loader):\n",
    "        data, target = data.float().to(DEVICE), target.unsqueeze(1).to(DEVICE)\n",
    "        optimizer.zero_grad()\n",
    "        output = model(data.unsqueeze(1))\n",
    "        loss = F.mse_loss(output, target)\n",
    "        loss.backward()\n",
    "        optimizer.step()\n",
    "        num = num + 1\n",
    "        if num%20 == 0:\n",
    "            print('Train Epoch: {} [{}/{} ({:.0f}%)]\\tLoss: {:.6f}'.format(\n",
    "                epoch, batch_idx * len(data), len(train_loader.dataset),\n",
    "                100. * batch_idx / len(train_loader), loss.item()))"
   ]
  },
  {
   "cell_type": "code",
   "execution_count": 190,
   "id": "a2a5227f",
   "metadata": {},
   "outputs": [
    {
     "name": "stdout",
     "output_type": "stream",
     "text": [
      "Train Epoch: 0 [1568/2048 (77%)]\tLoss: 0.446795\n",
      "Train Epoch: 1 [1120/2048 (55%)]\tLoss: 0.443944\n",
      "Train Epoch: 2 [672/2048 (33%)]\tLoss: 0.440784\n",
      "Train Epoch: 3 [224/2048 (11%)]\tLoss: 0.438881\n",
      "Train Epoch: 3 [1824/2048 (89%)]\tLoss: 0.436511\n",
      "Train Epoch: 4 [1376/2048 (67%)]\tLoss: 0.436172\n",
      "Train Epoch: 5 [928/2048 (45%)]\tLoss: 0.429495\n",
      "Train Epoch: 6 [480/2048 (23%)]\tLoss: 0.433925\n",
      "Train Epoch: 7 [32/2048 (2%)]\tLoss: 0.438826\n",
      "Train Epoch: 7 [1632/2048 (80%)]\tLoss: 0.430015\n",
      "Train Epoch: 8 [1184/2048 (58%)]\tLoss: 0.431148\n",
      "Train Epoch: 9 [736/2048 (36%)]\tLoss: 0.433322\n"
     ]
    }
   ],
   "source": [
    "model.train()\n",
    "B_S = 32\n",
    "Epoch = 10\n",
    "num = 0\n",
    "\n",
    "train_loader = torch.utils.data.DataLoader(train_data, batch_size = B_S, shuffle = True)\n",
    "optimizer = optim.SGD(model.parameters(), lr=0.01, momentum=0.9)\n",
    "model.train()\n",
    "\n",
    "for epoch in range(Epoch):\n",
    "    for batch_idx, (data, target) in enumerate(train_loader):\n",
    "        data, target = data.float().to(DEVICE), target.unsqueeze(1).to(DEVICE)\n",
    "        optimizer.zero_grad()\n",
    "        output = model(data.unsqueeze(1))\n",
    "        loss = F.binary_cross_entropy(output, target)\n",
    "        loss.backward()\n",
    "        optimizer.step()\n",
    "        num = num + 1\n",
    "        if num%50 == 0:\n",
    "            print('Train Epoch: {} [{}/{} ({:.0f}%)]\\tLoss: {:.6f}'.format(\n",
    "                epoch, batch_idx * len(data), len(train_loader.dataset),\n",
    "                100. * batch_idx / len(train_loader), loss.item()))"
   ]
  },
  {
   "cell_type": "code",
   "execution_count": null,
   "id": "5f84ac39",
   "metadata": {},
   "outputs": [],
   "source": []
  },
  {
   "cell_type": "code",
   "execution_count": 191,
   "id": "659e1914",
   "metadata": {
    "scrolled": true
   },
   "outputs": [
    {
     "name": "stdout",
     "output_type": "stream",
     "text": [
      "Train Epoch: 0 [1568/2048 (77%)]\tLoss: 0.587277\n",
      "Train Epoch: 1 [1120/2048 (55%)]\tLoss: 0.583778\n",
      "Train Epoch: 2 [672/2048 (33%)]\tLoss: 0.583515\n",
      "Train Epoch: 3 [224/2048 (11%)]\tLoss: 0.576826\n",
      "Train Epoch: 3 [1824/2048 (89%)]\tLoss: 0.578194\n",
      "Train Epoch: 4 [1376/2048 (67%)]\tLoss: 0.577626\n",
      "Train Epoch: 5 [928/2048 (45%)]\tLoss: 0.581325\n",
      "Train Epoch: 6 [480/2048 (23%)]\tLoss: 0.573601\n",
      "Train Epoch: 7 [32/2048 (2%)]\tLoss: 0.576068\n",
      "Train Epoch: 7 [1632/2048 (80%)]\tLoss: 0.575551\n",
      "Train Epoch: 8 [1184/2048 (58%)]\tLoss: 0.574247\n",
      "Train Epoch: 9 [736/2048 (36%)]\tLoss: 0.576284\n"
     ]
    }
   ],
   "source": [
    "model.train()\n",
    "B_S = 32\n",
    "Epoch = 10\n",
    "num = 0\n",
    "\n",
    "train_loader = torch.utils.data.DataLoader(train_data, batch_size = B_S, shuffle = True)\n",
    "optimizer = optim.SGD(model.parameters(), lr=0.01, momentum=0.9)\n",
    "model.train()\n",
    "\n",
    "for epoch in range(Epoch):\n",
    "    for batch_idx, (data, target) in enumerate(train_loader):\n",
    "        data, target = data.float().to(DEVICE), target.unsqueeze(1).to(DEVICE)\n",
    "        optimizer.zero_grad()\n",
    "        output = model(data.unsqueeze(1))\n",
    "        loss = F.binary_cross_entropy_with_logits(output, target)\n",
    "        loss.backward()\n",
    "        optimizer.step()\n",
    "        num = num + 1\n",
    "        if num%50 == 0:\n",
    "            print('Train Epoch: {} [{}/{} ({:.0f}%)]\\tLoss: {:.6f}'.format(\n",
    "                epoch, batch_idx * len(data), len(train_loader.dataset),\n",
    "                100. * batch_idx / len(train_loader), loss.item()))"
   ]
  },
  {
   "cell_type": "code",
   "execution_count": 190,
   "id": "91a37bfa",
   "metadata": {},
   "outputs": [
    {
     "name": "stdout",
     "output_type": "stream",
     "text": [
      "Train Epoch: 0 [1568/2048 (77%)]\tLoss: 0.446795\n",
      "Train Epoch: 1 [1120/2048 (55%)]\tLoss: 0.443944\n",
      "Train Epoch: 2 [672/2048 (33%)]\tLoss: 0.440784\n",
      "Train Epoch: 3 [224/2048 (11%)]\tLoss: 0.438881\n",
      "Train Epoch: 3 [1824/2048 (89%)]\tLoss: 0.436511\n",
      "Train Epoch: 4 [1376/2048 (67%)]\tLoss: 0.436172\n",
      "Train Epoch: 5 [928/2048 (45%)]\tLoss: 0.429495\n",
      "Train Epoch: 6 [480/2048 (23%)]\tLoss: 0.433925\n",
      "Train Epoch: 7 [32/2048 (2%)]\tLoss: 0.438826\n",
      "Train Epoch: 7 [1632/2048 (80%)]\tLoss: 0.430015\n",
      "Train Epoch: 8 [1184/2048 (58%)]\tLoss: 0.431148\n",
      "Train Epoch: 9 [736/2048 (36%)]\tLoss: 0.433322\n"
     ]
    }
   ],
   "source": [
    "for epoch in range(Epoch):\n",
    "    for batch_idx, (data, target) in enumerate(train_loader):\n",
    "        data, target = data.float().to(DEVICE), target.unsqueeze(1).to(DEVICE)\n",
    "        optimizer.zero_grad()\n",
    "        output = model(data.unsqueeze(1))\n",
    "        loss = F.binary_cross_entropy(output, target)\n",
    "        loss.backward()\n",
    "        optimizer.step()\n",
    "        num = num + 1\n",
    "        if num%50 == 0:\n",
    "            print('Train Epoch: {} [{}/{} ({:.0f}%)]\\tLoss: {:.6f}'.format(\n",
    "                epoch, batch_idx * len(data), len(train_loader.dataset),\n",
    "                100. * batch_idx / len(train_loader), loss.item()))"
   ]
  },
  {
   "cell_type": "markdown",
   "id": "9a54d128",
   "metadata": {},
   "source": [
    "# model evaluation"
   ]
  },
  {
   "cell_type": "code",
   "execution_count": 204,
   "id": "41d7335b",
   "metadata": {},
   "outputs": [
    {
     "data": {
      "text/plain": [
       "UNet(\n",
       "  (part_1): Sequential(\n",
       "    (0): Conv2d(1, 32, kernel_size=(3, 3), stride=(1, 1), padding=(1, 1))\n",
       "    (1): BatchNorm2d(32, eps=1e-05, momentum=0.1, affine=True, track_running_stats=True)\n",
       "    (2): ReLU(inplace=True)\n",
       "    (3): Conv2d(32, 32, kernel_size=(3, 3), stride=(1, 1), padding=(1, 1))\n",
       "    (4): BatchNorm2d(32, eps=1e-05, momentum=0.1, affine=True, track_running_stats=True)\n",
       "    (5): ReLU(inplace=True)\n",
       "  )\n",
       "  (max_pool_1): MaxPool2d(kernel_size=2, stride=2, padding=0, dilation=1, ceil_mode=False)\n",
       "  (part_2): Sequential(\n",
       "    (0): Conv2d(32, 64, kernel_size=(3, 3), stride=(1, 1), padding=(1, 1))\n",
       "    (1): BatchNorm2d(64, eps=1e-05, momentum=0.1, affine=True, track_running_stats=True)\n",
       "    (2): ReLU(inplace=True)\n",
       "    (3): Conv2d(64, 64, kernel_size=(3, 3), stride=(1, 1), padding=(1, 1))\n",
       "    (4): BatchNorm2d(64, eps=1e-05, momentum=0.1, affine=True, track_running_stats=True)\n",
       "    (5): ReLU(inplace=True)\n",
       "  )\n",
       "  (max_pool_2): MaxPool2d(kernel_size=2, stride=2, padding=0, dilation=1, ceil_mode=False)\n",
       "  (part_3): Sequential(\n",
       "    (0): Conv2d(64, 128, kernel_size=(3, 3), stride=(1, 1), padding=(1, 1))\n",
       "    (1): BatchNorm2d(128, eps=1e-05, momentum=0.1, affine=True, track_running_stats=True)\n",
       "    (2): ReLU(inplace=True)\n",
       "    (3): Conv2d(128, 128, kernel_size=(3, 3), stride=(1, 1), padding=(1, 1))\n",
       "    (4): BatchNorm2d(128, eps=1e-05, momentum=0.1, affine=True, track_running_stats=True)\n",
       "    (5): ReLU(inplace=True)\n",
       "  )\n",
       "  (max_pool_3): MaxPool2d(kernel_size=2, stride=2, padding=0, dilation=1, ceil_mode=False)\n",
       "  (part_4): Sequential(\n",
       "    (0): Conv2d(128, 256, kernel_size=(3, 3), stride=(1, 1), padding=(1, 1))\n",
       "    (1): BatchNorm2d(256, eps=1e-05, momentum=0.1, affine=True, track_running_stats=True)\n",
       "    (2): ReLU(inplace=True)\n",
       "    (3): Conv2d(256, 256, kernel_size=(3, 3), stride=(1, 1), padding=(1, 1))\n",
       "    (4): BatchNorm2d(256, eps=1e-05, momentum=0.1, affine=True, track_running_stats=True)\n",
       "    (5): ReLU(inplace=True)\n",
       "  )\n",
       "  (upconv_1): UpsamplingBilinear2d(size=8, mode=bilinear)\n",
       "  (part_5): Sequential(\n",
       "    (0): Conv2d(384, 128, kernel_size=(3, 3), stride=(1, 1), padding=(1, 1))\n",
       "    (1): BatchNorm2d(128, eps=1e-05, momentum=0.1, affine=True, track_running_stats=True)\n",
       "    (2): ReLU(inplace=True)\n",
       "    (3): Conv2d(128, 128, kernel_size=(3, 3), stride=(1, 1), padding=(1, 1))\n",
       "    (4): BatchNorm2d(128, eps=1e-05, momentum=0.1, affine=True, track_running_stats=True)\n",
       "    (5): ReLU(inplace=True)\n",
       "  )\n",
       "  (upconv_2): UpsamplingBilinear2d(size=16, mode=bilinear)\n",
       "  (part_6): Sequential(\n",
       "    (0): Conv2d(192, 64, kernel_size=(3, 3), stride=(1, 1), padding=(1, 1))\n",
       "    (1): BatchNorm2d(64, eps=1e-05, momentum=0.1, affine=True, track_running_stats=True)\n",
       "    (2): ReLU(inplace=True)\n",
       "    (3): Conv2d(64, 64, kernel_size=(3, 3), stride=(1, 1), padding=(1, 1))\n",
       "    (4): BatchNorm2d(64, eps=1e-05, momentum=0.1, affine=True, track_running_stats=True)\n",
       "    (5): ReLU(inplace=True)\n",
       "  )\n",
       "  (upconv_3): UpsamplingBilinear2d(size=32, mode=bilinear)\n",
       "  (part_7): Sequential(\n",
       "    (0): Conv2d(96, 32, kernel_size=(3, 3), stride=(1, 1), padding=(1, 1))\n",
       "    (1): BatchNorm2d(32, eps=1e-05, momentum=0.1, affine=True, track_running_stats=True)\n",
       "    (2): ReLU(inplace=True)\n",
       "    (3): Conv2d(32, 32, kernel_size=(3, 3), stride=(1, 1), padding=(1, 1))\n",
       "    (4): BatchNorm2d(32, eps=1e-05, momentum=0.1, affine=True, track_running_stats=True)\n",
       "    (5): ReLU(inplace=True)\n",
       "    (6): Conv2d(32, 1, kernel_size=(1, 1), stride=(1, 1))\n",
       "  )\n",
       ")"
      ]
     },
     "execution_count": 204,
     "metadata": {},
     "output_type": "execute_result"
    }
   ],
   "source": [
    "model.eval()"
   ]
  },
  {
   "cell_type": "code",
   "execution_count": 218,
   "id": "efa04fa0",
   "metadata": {
    "scrolled": true
   },
   "outputs": [
    {
     "data": {
      "image/png": "[encoded data removed]",
      "text/plain": [
       "<Figure size 432x288 with 1 Axes>"
      ]
     },
     "metadata": {},
     "output_type": "display_data"
    }
   ],
   "source": [
    "fig = plt.figure()\n",
    "plt.imshow(output[2][0].detach().numpy(), \n",
    "           cmap='gray', interpolation='none')\n",
    "plt.xticks([])\n",
    "plt.yticks([])\n",
    "plt.show()"
   ]
  }
 ],
 "metadata": {
  "kernelspec": {
   "display_name": "Python 3",
   "language": "python",
   "name": "python3"
  },
  "language_info": {
   "codemirror_mode": {
    "name": "ipython",
    "version": 3
   },
   "file_extension": ".py",
   "mimetype": "text/x-python",
   "name": "python",
   "nbconvert_exporter": "python",
   "pygments_lexer": "ipython3",
   "version": "3.9.5"
  }
 },
 "nbformat": 4,
 "nbformat_minor": 5
}
