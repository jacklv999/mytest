{
 "cells": [
  {
   "cell_type": "code",
   "execution_count": 47,
   "id": "a362784d",
   "metadata": {},
   "outputs": [],
   "source": []
  },
  {
   "cell_type": "code",
   "execution_count": 50,
   "id": "713c501c",
   "metadata": {},
   "outputs": [],
   "source": [
    "add_items = []\n",
    "\n",
    "for item in os.listdir():\n",
    "    if item not in file_list:\n",
    "        add_items.append(item)"
   ]
  },
  {
   "cell_type": "code",
   "execution_count": 59,
   "id": "44072a62",
   "metadata": {},
   "outputs": [
    {
     "data": {
      "text/plain": [
       "['c.html']"
      ]
     },
     "execution_count": 59,
     "metadata": {},
     "output_type": "execute_result"
    }
   ],
   "source": [
    "add_items"
   ]
  },
  {
   "cell_type": "code",
   "execution_count": 64,
   "id": "99f286d6",
   "metadata": {},
   "outputs": [],
   "source": []
  },
  {
   "cell_type": "code",
   "execution_count": 61,
   "id": "21dbbec8",
   "metadata": {},
   "outputs": [
    {
     "data": {
      "text/plain": [
       "True"
      ]
     },
     "execution_count": 61,
     "metadata": {},
     "output_type": "execute_result"
    }
   ],
   "source": [
    "item[-4:] == 'html'"
   ]
  },
  {
   "cell_type": "code",
   "execution_count": null,
   "id": "9f805737",
   "metadata": {},
   "outputs": [],
   "source": []
  },
  {
   "cell_type": "code",
   "execution_count": null,
   "id": "a41d5f15",
   "metadata": {},
   "outputs": [],
   "source": [
    "- [量化策略优化](./量化策略优化.html)"
   ]
  },
  {
   "cell_type": "code",
   "execution_count": 56,
   "id": "711274b4",
   "metadata": {},
   "outputs": [
    {
     "data": {
      "text/plain": [
       "'- [c](./c.html)'"
      ]
     },
     "execution_count": 56,
     "metadata": {},
     "output_type": "execute_result"
    }
   ],
   "source": [
    "\"- [\" + add_items[0][:-5] + \"](./\" + add_items[0] + \")\""
   ]
  },
  {
   "cell_type": "code",
   "execution_count": 20,
   "id": "45e643e6",
   "metadata": {},
   "outputs": [
    {
     "data": {
      "text/plain": [
       "True"
      ]
     },
     "execution_count": 20,
     "metadata": {},
     "output_type": "execute_result"
    }
   ],
   "source": [
    "file_list[3]"
   ]
  },
  {
   "cell_type": "code",
   "execution_count": null,
   "id": "bb2c57cc",
   "metadata": {},
   "outputs": [],
   "source": [
    "tmp_str_3 = tmp_str_1.difference(tmp_str_2)\n",
    "for i in tmp_str_3:\n",
    "    if str(i)[-5:-1]=='html':\n",
    "        # get file adress\n",
    "        tmp_1 = str(str(i)).replace('\\\\','/')\n",
    "        tmp_2 = ']('+tmp_1[:-1]+')'\n",
    "        # get file name with .html surfix\n",
    "        tmp_1 = tmp_1[:-6]\n",
    "        tmp_3 = tmp_1.split('/')\n",
    "        tmp_4 = '- [ ] '+'['+tmp_3[-1]+tmp_2\n",
    "        \n",
    "        \n",
    "        fp = open('.\\\\README.md','r+',encoding='UTF-8')\n",
    "        s = fp.read()                   #将指定文件读入内存\n",
    "        fp.close()\n",
    "        a = s.split('\\n')\n",
    "        a.insert(5, tmp_4)    #在第 LINE+1 行插入\n",
    "        s = '\\n'.join(a)                #用'\\n'连接各个元素\n",
    "        fp = open('.\\\\README.md','w',encoding='UTF-8')\n",
    "        fp.write(s)\n",
    "        fp.close()"
   ]
  }
 ],
 "metadata": {
  "kernelspec": {
   "display_name": "Python 3",
   "language": "python",
   "name": "python3"
  },
  "language_info": {
   "codemirror_mode": {
    "name": "ipython",
    "version": 3
   },
   "file_extension": ".py",
   "mimetype": "text/x-python",
   "name": "python",
   "nbconvert_exporter": "python",
   "pygments_lexer": "ipython3",
   "version": "3.9.5"
  },
  "toc": {
   "base_numbering": 1,
   "nav_menu": {},
   "number_sections": true,
   "sideBar": true,
   "skip_h1_title": true,
   "title_cell": "Table of Contents",
   "title_sidebar": "Contents",
   "toc_cell": false,
   "toc_position": {},
   "toc_section_display": true,
   "toc_window_display": false
  }
 },
 "nbformat": 4,
 "nbformat_minor": 5
}
