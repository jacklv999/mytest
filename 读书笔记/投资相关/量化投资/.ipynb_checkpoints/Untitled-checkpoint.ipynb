{
 "cells": [
  {
   "cell_type": "code",
   "execution_count": 47,
   "id": "8aed9eb4",
   "metadata": {},
   "outputs": [],
   "source": [
    "import os\n",
    "\n",
    "if not os.path.exists('md.db'):\n",
    "    with open('md.db','w') as f:\n",
    "        for fs in os.listdir():\n",
    "            f.write(fs)\n",
    "            f.write('\\n')\n",
    "else:\n",
    "    with open('./md.db','r') as f:\n",
    "        file_list = f.read().splitlines()\n",
    "\n",
    "        \n",
    "        \n",
    "with open('./md.db', \"r+\") as f:\n",
    "        read_data = f.read()\n",
    "        f.seek(0)\n",
    "        f.truncate()   #清空文件\n",
    "\n",
    "with open('./md.db','a') as f:\n",
    "    for file in os.listdir():\n",
    "        f.write(str(file)+'\\n')"
   ]
  },
  {
   "cell_type": "code",
   "execution_count": 50,
   "id": "bc289198",
   "metadata": {},
   "outputs": [],
   "source": [
    "add_items = []\n",
    "\n",
    "for item in os.listdir():\n",
    "    if item not in file_list:\n",
    "        add_items.append(item)"
   ]
  },
  {
   "cell_type": "code",
   "execution_count": 58,
   "id": "ee882f24",
   "metadata": {},
   "outputs": [],
   "source": [
    "with open(\"./README.md\", \"a\") as f:\n",
    "    for item in add_items:\n",
    "        if item[-4:] == 'html':\n",
    "            tmp_str = \"- [\" + item[:-5] + \"](./\" + item + \") \\n\""
   ]
  },
  {
   "cell_type": "code",
   "execution_count": null,
   "id": "32a7d290",
   "metadata": {},
   "outputs": [],
   "source": [
    "- [量化策略优化](./量化策略优化.html)"
   ]
  },
  {
   "cell_type": "code",
   "execution_count": 56,
   "id": "9a16c068",
   "metadata": {},
   "outputs": [
    {
     "data": {
      "text/plain": [
       "'- [c](./c.html)'"
      ]
     },
     "execution_count": 56,
     "metadata": {},
     "output_type": "execute_result"
    }
   ],
   "source": [
    "\"- [\" + add_items[0][:-5] + \"](./\" + add_items[0] + \")\""
   ]
  },
  {
   "cell_type": "code",
   "execution_count": 20,
   "id": "fd7737ae",
   "metadata": {},
   "outputs": [
    {
     "data": {
      "text/plain": [
       "True"
      ]
     },
     "execution_count": 20,
     "metadata": {},
     "output_type": "execute_result"
    }
   ],
   "source": [
    "file_list[3]"
   ]
  },
  {
   "cell_type": "code",
   "execution_count": null,
   "id": "e2439db9",
   "metadata": {},
   "outputs": [],
   "source": [
    "tmp_str_3 = tmp_str_1.difference(tmp_str_2)\n",
    "for i in tmp_str_3:\n",
    "    if str(i)[-5:-1]=='html':\n",
    "        # get file adress\n",
    "        tmp_1 = str(str(i)).replace('\\\\','/')\n",
    "        tmp_2 = ']('+tmp_1[:-1]+')'\n",
    "        # get file name with .html surfix\n",
    "        tmp_1 = tmp_1[:-6]\n",
    "        tmp_3 = tmp_1.split('/')\n",
    "        tmp_4 = '- [ ] '+'['+tmp_3[-1]+tmp_2\n",
    "        \n",
    "        \n",
    "        fp = open('.\\\\README.md','r+',encoding='UTF-8')\n",
    "        s = fp.read()                   #将指定文件读入内存\n",
    "        fp.close()\n",
    "        a = s.split('\\n')\n",
    "        a.insert(5, tmp_4)    #在第 LINE+1 行插入\n",
    "        s = '\\n'.join(a)                #用'\\n'连接各个元素\n",
    "        fp = open('.\\\\README.md','w',encoding='UTF-8')\n",
    "        fp.write(s)\n",
    "        fp.close()"
   ]
  }
 ],
 "metadata": {
  "kernelspec": {
   "display_name": "Python 3",
   "language": "python",
   "name": "python3"
  },
  "language_info": {
   "codemirror_mode": {
    "name": "ipython",
    "version": 3
   },
   "file_extension": ".py",
   "mimetype": "text/x-python",
   "name": "python",
   "nbconvert_exporter": "python",
   "pygments_lexer": "ipython3",
   "version": "3.9.5"
  },
  "toc": {
   "base_numbering": 1,
   "nav_menu": {},
   "number_sections": true,
   "sideBar": true,
   "skip_h1_title": true,
   "title_cell": "Table of Contents",
   "title_sidebar": "Contents",
   "toc_cell": false,
   "toc_position": {},
   "toc_section_display": true,
   "toc_window_display": false
  }
 },
 "nbformat": 4,
 "nbformat_minor": 5
}
